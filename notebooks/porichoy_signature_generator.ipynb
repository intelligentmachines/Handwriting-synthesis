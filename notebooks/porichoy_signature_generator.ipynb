{
 "cells": [
  {
   "cell_type": "markdown",
   "metadata": {
    "collapsed": true
   },
   "source": [
    "# Results\n"
   ]
  },
  {
   "cell_type": "code",
   "execution_count": 1,
   "metadata": {},
   "outputs": [
    {
     "name": "stderr",
     "output_type": "stream",
     "text": [
      "../utils/__init__.py:4: UserWarning: \n",
      "This call to matplotlib.use() has no effect because the backend has already\n",
      "been chosen; matplotlib.use() must be called *before* pylab, matplotlib.pyplot,\n",
      "or matplotlib.backends is imported for the first time.\n",
      "\n",
      "The backend was *originally* set to 'module://matplotlib_inline.backend_inline' by the following code:\n",
      "  File \"/home/arowa/anaconda3/lib/python3.8/runpy.py\", line 194, in _run_module_as_main\n",
      "    return _run_code(code, main_globals, None,\n",
      "  File \"/home/arowa/anaconda3/lib/python3.8/runpy.py\", line 87, in _run_code\n",
      "    exec(code, run_globals)\n",
      "  File \"/home/arowa/work/porichoy/new/Handwriting-synthesis/hand_gen_env/lib/python3.8/site-packages/ipykernel_launcher.py\", line 16, in <module>\n",
      "    app.launch_new_instance()\n",
      "  File \"/home/arowa/work/porichoy/new/Handwriting-synthesis/hand_gen_env/lib/python3.8/site-packages/traitlets/config/application.py\", line 846, in launch_instance\n",
      "    app.start()\n",
      "  File \"/home/arowa/work/porichoy/new/Handwriting-synthesis/hand_gen_env/lib/python3.8/site-packages/ipykernel/kernelapp.py\", line 677, in start\n",
      "    self.io_loop.start()\n",
      "  File \"/home/arowa/work/porichoy/new/Handwriting-synthesis/hand_gen_env/lib/python3.8/site-packages/tornado/platform/asyncio.py\", line 199, in start\n",
      "    self.asyncio_loop.run_forever()\n",
      "  File \"/home/arowa/anaconda3/lib/python3.8/asyncio/base_events.py\", line 570, in run_forever\n",
      "    self._run_once()\n",
      "  File \"/home/arowa/anaconda3/lib/python3.8/asyncio/base_events.py\", line 1859, in _run_once\n",
      "    handle._run()\n",
      "  File \"/home/arowa/anaconda3/lib/python3.8/asyncio/events.py\", line 81, in _run\n",
      "    self._context.run(self._callback, *self._args)\n",
      "  File \"/home/arowa/work/porichoy/new/Handwriting-synthesis/hand_gen_env/lib/python3.8/site-packages/ipykernel/kernelbase.py\", line 461, in dispatch_queue\n",
      "    await self.process_one()\n",
      "  File \"/home/arowa/work/porichoy/new/Handwriting-synthesis/hand_gen_env/lib/python3.8/site-packages/ipykernel/kernelbase.py\", line 450, in process_one\n",
      "    await dispatch(*args)\n",
      "  File \"/home/arowa/work/porichoy/new/Handwriting-synthesis/hand_gen_env/lib/python3.8/site-packages/ipykernel/kernelbase.py\", line 357, in dispatch_shell\n",
      "    await result\n",
      "  File \"/home/arowa/work/porichoy/new/Handwriting-synthesis/hand_gen_env/lib/python3.8/site-packages/ipykernel/kernelbase.py\", line 652, in execute_request\n",
      "    reply_content = await reply_content\n",
      "  File \"/home/arowa/work/porichoy/new/Handwriting-synthesis/hand_gen_env/lib/python3.8/site-packages/ipykernel/ipkernel.py\", line 353, in do_execute\n",
      "    res = shell.run_cell(code, store_history=store_history, silent=silent)\n",
      "  File \"/home/arowa/work/porichoy/new/Handwriting-synthesis/hand_gen_env/lib/python3.8/site-packages/ipykernel/zmqshell.py\", line 532, in run_cell\n",
      "    return super().run_cell(*args, **kwargs)\n",
      "  File \"/home/arowa/work/porichoy/new/Handwriting-synthesis/hand_gen_env/lib/python3.8/site-packages/IPython/core/interactiveshell.py\", line 2768, in run_cell\n",
      "    result = self._run_cell(\n",
      "  File \"/home/arowa/work/porichoy/new/Handwriting-synthesis/hand_gen_env/lib/python3.8/site-packages/IPython/core/interactiveshell.py\", line 2814, in _run_cell\n",
      "    return runner(coro)\n",
      "  File \"/home/arowa/work/porichoy/new/Handwriting-synthesis/hand_gen_env/lib/python3.8/site-packages/IPython/core/async_helpers.py\", line 129, in _pseudo_sync_runner\n",
      "    coro.send(None)\n",
      "  File \"/home/arowa/work/porichoy/new/Handwriting-synthesis/hand_gen_env/lib/python3.8/site-packages/IPython/core/interactiveshell.py\", line 3012, in run_cell_async\n",
      "    has_raised = await self.run_ast_nodes(code_ast.body, cell_name,\n",
      "  File \"/home/arowa/work/porichoy/new/Handwriting-synthesis/hand_gen_env/lib/python3.8/site-packages/IPython/core/interactiveshell.py\", line 3191, in run_ast_nodes\n",
      "    if await self.run_code(code, result, async_=asy):\n",
      "  File \"/home/arowa/work/porichoy/new/Handwriting-synthesis/hand_gen_env/lib/python3.8/site-packages/IPython/core/interactiveshell.py\", line 3251, in run_code\n",
      "    exec(code_obj, self.user_global_ns, self.user_ns)\n",
      "  File \"/tmp/ipykernel_4335/1397648106.py\", line 1, in <module>\n",
      "    get_ipython().run_line_magic('matplotlib', 'inline')\n",
      "  File \"/home/arowa/work/porichoy/new/Handwriting-synthesis/hand_gen_env/lib/python3.8/site-packages/IPython/core/interactiveshell.py\", line 2204, in run_line_magic\n",
      "    result = fn(*args, **kwargs)\n",
      "  File \"/home/arowa/work/porichoy/new/Handwriting-synthesis/hand_gen_env/lib/python3.8/site-packages/IPython/core/magics/pylab.py\", line 99, in matplotlib\n",
      "    gui, backend = self.shell.enable_matplotlib(args.gui.lower() if isinstance(args.gui, str) else args.gui)\n",
      "  File \"/home/arowa/work/porichoy/new/Handwriting-synthesis/hand_gen_env/lib/python3.8/site-packages/IPython/core/interactiveshell.py\", line 3340, in enable_matplotlib\n",
      "    pt.activate_matplotlib(backend)\n",
      "  File \"/home/arowa/work/porichoy/new/Handwriting-synthesis/hand_gen_env/lib/python3.8/site-packages/IPython/core/pylabtools.py\", line 359, in activate_matplotlib\n",
      "    plt.switch_backend(backend)\n",
      "  File \"/home/arowa/work/porichoy/new/Handwriting-synthesis/hand_gen_env/lib/python3.8/site-packages/matplotlib/pyplot.py\", line 231, in switch_backend\n",
      "    matplotlib.use(newbackend, warn=False, force=True)\n",
      "  File \"/home/arowa/work/porichoy/new/Handwriting-synthesis/hand_gen_env/lib/python3.8/site-packages/matplotlib/__init__.py\", line 1410, in use\n",
      "    reload(sys.modules['matplotlib.backends'])\n",
      "  File \"/home/arowa/anaconda3/lib/python3.8/importlib/__init__.py\", line 169, in reload\n",
      "    _bootstrap._exec(spec, module)\n",
      "  File \"/home/arowa/work/porichoy/new/Handwriting-synthesis/hand_gen_env/lib/python3.8/site-packages/matplotlib/backends/__init__.py\", line 16, in <module>\n",
      "    line for line in traceback.format_stack()\n",
      "\n",
      "\n",
      "  matplotlib.use(\"AGG\")\n"
     ]
    }
   ],
   "source": [
    "%matplotlib inline\n",
    "import torch\n",
    "import numpy as np\n",
    "import sys\n",
    "import matplotlib.pyplot as plt\n",
    "sys.path.insert(0, '..')\n",
    "from utils import plot_stroke\n",
    "\n",
    "from utils.constants import Global\n",
    "from utils.dataset import HandwritingDataset\n",
    "from utils.data_utils import data_denormalization, data_normalization, valid_offset_normalization\n",
    "from models.models import HandWritingPredictionNet, HandWritingSynthesisNet\n",
    "from generate import generate_unconditional_seq, generate_conditional_sequence"
   ]
  },
  {
   "cell_type": "code",
   "execution_count": 2,
   "metadata": {},
   "outputs": [],
   "source": [
    "device = torch.device(\"cuda:0\" if torch.cuda.is_available() else \"cpu\")\n",
    "\n",
    "data_path = '/home/arowa/work/porichoy/new/Handwriting-synthesis/data/'"
   ]
  },
  {
   "cell_type": "code",
   "execution_count": 5,
   "metadata": {},
   "outputs": [
    {
     "name": "stdout",
     "output_type": "stream",
     "text": [
      "Vocab size:  77\n",
      "Jaheeda Swadhina  \n",
      "Generating sequence....\n",
      "batch_size: 1\n",
      "EOS: True\n",
      "seq_len: 606\n",
      "Input seq:  Jaheeda Swadhina  \n",
      "Length of input sequence:  18\n"
     ]
    }
   ],
   "source": [
    "model_path = '/home/arowa/work/Handwriting-synthesis/results/synthesis/best_model_synthesis_4.pt'\n",
    "\n",
    "train_dataset = HandwritingDataset(data_path, split='train', text_req=True)\n",
    "\n",
    "names = open('/home/arowa/work/Handwriting-synthesis/data/english_names.txt').read().splitlines()\n",
    "\n",
    "# first name and last name\n",
    "char_seq = np.random.choice(names) + ' ' + np.random.choice(names)\n",
    "# char_seq = \"python handwriting synthesis\"\n",
    "bias = 10.\n",
    "is_map = True\n",
    "ytext = char_seq + \"  \"\n",
    "\n",
    "\n",
    "gen_seq, phi = generate_conditional_sequence(\n",
    "        model_path, char_seq, device, train_dataset.char_to_id,\n",
    "        train_dataset.idx_to_char, bias, prime=False, prime_seq=None, real_text=None, is_map=is_map)\n",
    "\n",
    "gen_seq = data_denormalization(Global.train_mean, Global.train_std, gen_seq)\n",
    "\n",
    "# plot the sequence\n",
    "plot_stroke(gen_seq[0], f'output.png')"
   ]
  }
 ],
 "metadata": {
  "anaconda-cloud": {},
  "kernelspec": {
   "display_name": "Python 3",
   "language": "python",
   "name": "python3"
  },
  "language_info": {
   "codemirror_mode": {
    "name": "ipython",
    "version": 3
   },
   "file_extension": ".py",
   "mimetype": "text/x-python",
   "name": "python",
   "nbconvert_exporter": "python",
   "pygments_lexer": "ipython3",
   "version": "3.8.8"
  }
 },
 "nbformat": 4,
 "nbformat_minor": 2
}
